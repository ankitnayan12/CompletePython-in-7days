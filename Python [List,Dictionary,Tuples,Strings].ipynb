{
 "cells": [
  {
   "cell_type": "markdown",
   "metadata": {},
   "source": [
    "# LISTS\n",
    "# what are lists?\n",
    "\n",
    "1) A list is a data structure in Python that is a #mutable, or #changeable, #ordered sequence of elements.\n",
    "2) Lists allow you to store sets of information in one place, whether you have just a few items or millions of items\n",
    "3) Each element or value that is inside of a list is called an item.\n",
    "\n",
    "# Defining a lists\n",
    "1) Just as strings are defined as characters between quotes, lists are defined by having values between square brackets [ ] .\n",
    "2) Use square brackets to define a list, \n",
    "3) use commas to separate individual items in the list. \n",
    "4) Use plural names for lists"
   ]
  },
  {
   "cell_type": "code",
   "execution_count": 22,
   "metadata": {},
   "outputs": [
    {
     "data": {
      "text/plain": [
       "['America', 'canada', 'newzealand', 'australia', 'germany']"
      ]
     },
     "execution_count": 22,
     "metadata": {},
     "output_type": "execute_result"
    }
   ],
   "source": [
    "countries=['America','canada','newzealand','australia','germany']\n",
    "countries"
   ]
  },
  {
   "cell_type": "code",
   "execution_count": 2,
   "metadata": {},
   "outputs": [
    {
     "data": {
      "text/plain": [
       "5"
      ]
     },
     "execution_count": 2,
     "metadata": {},
     "output_type": "execute_result"
    }
   ],
   "source": [
    "len(countries)"
   ]
  },
  {
   "cell_type": "code",
   "execution_count": null,
   "metadata": {},
   "outputs": [],
   "source": [
    "# Rules for list, tuple, string\n",
    "\n",
    "negative index     -5        -4          -3         -2          -1 \n",
    "positive index      0         1           2           3          4\n",
    "      countries=['America','canada','newzealand','australia','germany']\n",
    "positive slice  0         1        2            3           4\n",
    "negative slice -5        -4       -3           -2          -1\n",
    "\n",
    "NOTE\n",
    "positive always start with 0\n",
    "negative always start with negative first(-1)"
   ]
  },
  {
   "cell_type": "code",
   "execution_count": 6,
   "metadata": {},
   "outputs": [
    {
     "name": "stdout",
     "output_type": "stream",
     "text": [
      "America\n",
      "America\n",
      "newzealand\n",
      "australia\n",
      "germany\n",
      "canada\n"
     ]
    }
   ],
   "source": [
    "# Individual access to items via list[index]\n",
    "print(countries[0])\n",
    "print(countries[-5])\n",
    "print(countries[2])\n",
    "print(countries[-2])\n",
    "print(countries[-1])\n",
    "print(countries[1])"
   ]
  },
  {
   "cell_type": "markdown",
   "metadata": {},
   "source": [
    "negative index     -5        -4          -3         -2          -1 \n",
    "positive index      0         1           2           3          4\n",
    "      countries=['America','canada','newzealand','australia','germany']\n",
    "positive slice  0         1        2            3           4\n",
    "negative slice -5        -4       -3           -2          -1"
   ]
  },
  {
   "cell_type": "code",
   "execution_count": 8,
   "metadata": {},
   "outputs": [
    {
     "name": "stdout",
     "output_type": "stream",
     "text": [
      "['America', 'canada', 'newzealand', 'australia']\n",
      "['America', 'canada', 'newzealand']\n",
      "['australia', 'germany']\n",
      "['America', 'canada', 'newzealand']\n",
      "['canada', 'newzealand', 'australia']\n",
      "['America', 'newzealand', 'germany']\n",
      "['germany', 'australia', 'newzealand', 'canada', 'America']\n",
      "['germany', 'newzealand', 'America']\n",
      "['America', 'canada', 'newzealand', 'australia', 'germany']\n",
      "['America', 'canada', 'newzealand', 'australia', 'germany']\n"
     ]
    }
   ],
   "source": [
    "# Access to sub-sequences via list [start slice:end slice:step]\n",
    "# TIPS - start index is included \n",
    "#        end index is NOT included( if you do slicing with the help of index)\n",
    "\n",
    "print(countries[:-1])\n",
    "print(countries[:3])\n",
    "print(countries[3:])\n",
    "      \n",
    "print(countries[-5:-2])\n",
    "print(countries[1:-1])\n",
    "      \n",
    "print(countries[::2])\n",
    "print(countries[::-1])\n",
    "print(countries[::-2])\n",
    "\n",
    "print(countries[::])\n",
    "print(countries[:])"
   ]
  },
  {
   "cell_type": "markdown",
   "metadata": {},
   "source": [
    "# List operations\n",
    ">>> my_list.index(a)        Get the index of an item     \n",
    ">>> my_list.count(a)        Count an item\n",
    ">>> my_list.append('!')     Append an item at a time\n",
    ">>> my_list.remove('!')     Remove an item\n",
    ">>> del(my_list[0:1])       Remove an item\n",
    ">>> my_list.reverse()       Reverse the list\n",
    ">>> my_list.extend('!')     Append an item\n",
    ">>> my_list.pop(-1)         Remove an item\n",
    ">>> my_list.insert(0,'!')   Insert an item\n",
    ">>> my_list.sort()          Sort the list(alphabetically)\n"
   ]
  },
  {
   "cell_type": "code",
   "execution_count": 23,
   "metadata": {},
   "outputs": [
    {
     "name": "stdout",
     "output_type": "stream",
     "text": [
      "['America', 'canada', 'newzealand', 'australia', 'germany', 'Finland']\n"
     ]
    }
   ],
   "source": [
    "# Append an item at a time\n",
    "countries.append('Finland') # append takes only one argument\n",
    "print(countries)"
   ]
  },
  {
   "cell_type": "code",
   "execution_count": 24,
   "metadata": {},
   "outputs": [
    {
     "name": "stdout",
     "output_type": "stream",
     "text": [
      "['America', 'canada', 'newzealand', 'australia', 'Finland']\n"
     ]
    }
   ],
   "source": [
    "#remove an item\n",
    "countries.remove('germany')\n",
    "print(countries)"
   ]
  },
  {
   "cell_type": "code",
   "execution_count": 25,
   "metadata": {},
   "outputs": [
    {
     "name": "stdout",
     "output_type": "stream",
     "text": [
      "['America', 'canada', 'newzealand', 'australia', 'Finland', 'g', 'e', 'r', 'm', 'a', 'n', 'y']\n"
     ]
    }
   ],
   "source": [
    "# extend\n",
    "countries.extend('germany')\n",
    "print(countries)"
   ]
  },
  {
   "cell_type": "code",
   "execution_count": 26,
   "metadata": {},
   "outputs": [
    {
     "name": "stdout",
     "output_type": "stream",
     "text": [
      "['America', 'canada', 'newzealand', 'australia', 'Finland']\n"
     ]
    }
   ],
   "source": [
    "#remove multiple item at a time\n",
    "del(countries[5:12]) #Rule-start index include kar and last index ko nahi lene ka(during slicing)\n",
    "print(countries)"
   ]
  },
  {
   "cell_type": "code",
   "execution_count": 27,
   "metadata": {},
   "outputs": [
    {
     "name": "stdout",
     "output_type": "stream",
     "text": [
      "['Finland', 'australia', 'newzealand', 'canada', 'America']\n"
     ]
    }
   ],
   "source": [
    "#reverse the list\n",
    "countries.reverse()\n",
    "print(countries)"
   ]
  },
  {
   "cell_type": "code",
   "execution_count": 28,
   "metadata": {},
   "outputs": [
    {
     "name": "stdout",
     "output_type": "stream",
     "text": [
      "['America', 'Finland', 'australia', 'canada', 'newzealand']\n"
     ]
    }
   ],
   "source": [
    "#sort the list in a alphabetical order\n",
    "countries.sort()\n",
    "print(countries)"
   ]
  },
  {
   "cell_type": "code",
   "execution_count": 30,
   "metadata": {},
   "outputs": [
    {
     "name": "stdout",
     "output_type": "stream",
     "text": [
      "['America', 'Finland', 'australia', 'canada', 'newzealand', 'germany', 'Norway', 'Japan']\n"
     ]
    }
   ],
   "source": [
    "#add multiple items in countries\n",
    "countries.extend(['germany','Norway','Japan'])\n",
    "print(countries)"
   ]
  },
  {
   "cell_type": "code",
   "execution_count": 31,
   "metadata": {},
   "outputs": [
    {
     "name": "stdout",
     "output_type": "stream",
     "text": [
      "['India', 'America', 'Finland', 'australia', 'canada', 'newzealand', 'germany', 'Norway', 'Japan']\n"
     ]
    }
   ],
   "source": [
    "#insert an item at particular index\n",
    "countries.insert(0,'India')\n",
    "print(countries)"
   ]
  },
  {
   "cell_type": "markdown",
   "metadata": {},
   "source": [
    "# List comprehension\n",
    "# syntax\n",
    "\n",
    "# 1.output expression(math.sqrt(i)) \n",
    "# 2.Input(for i in List_a)  \n",
    "# 3.Condition(optional)(if i%2==0)\n",
    "\n",
    "# [ 1)output expression     2)Input     3)condition(optional) ]"
   ]
  },
  {
   "cell_type": "code",
   "execution_count": 33,
   "metadata": {},
   "outputs": [
    {
     "name": "stdout",
     "output_type": "stream",
     "text": [
      "2\n",
      "4\n",
      "6\n"
     ]
    }
   ],
   "source": [
    "#Question 1 = Print all even number in list [loop]\n",
    "List_a = [1,2,3,4,5,6]\n",
    "for i in List_a:\n",
    "    if i%2==0:\n",
    "        print(i)"
   ]
  },
  {
   "cell_type": "code",
   "execution_count": 44,
   "metadata": {},
   "outputs": [
    {
     "name": "stdout",
     "output_type": "stream",
     "text": [
      "[False, True, False, True, False, True]\n"
     ]
    }
   ],
   "source": [
    "#Using List comprehension\n",
    "even_number=[i%2==0 for i in List_a]\n",
    "print(even_number)"
   ]
  },
  {
   "cell_type": "code",
   "execution_count": 35,
   "metadata": {},
   "outputs": [
    {
     "name": "stdout",
     "output_type": "stream",
     "text": [
      "1.0\n",
      "1.4142135623730951\n",
      "1.7320508075688772\n",
      "2.0\n",
      "2.23606797749979\n",
      "2.449489742783178\n"
     ]
    }
   ],
   "source": [
    "# Question 2 = print square root of number in list [loop]\n",
    "import math\n",
    "for i in List_a:\n",
    "    sqrt_list=math.sqrt(i)\n",
    "    print(sqrt_list)"
   ]
  },
  {
   "cell_type": "code",
   "execution_count": 45,
   "metadata": {},
   "outputs": [
    {
     "name": "stdout",
     "output_type": "stream",
     "text": [
      "[1.0, 1.4142135623730951, 1.7320508075688772, 2.0, 2.23606797749979, 2.449489742783178]\n"
     ]
    }
   ],
   "source": [
    "square_root=[math.sqrt(i) for i in List_a]\n",
    "print(square_root)"
   ]
  },
  {
   "cell_type": "code",
   "execution_count": 40,
   "metadata": {},
   "outputs": [
    {
     "name": "stdout",
     "output_type": "stream",
     "text": [
      "1.4142135623730951\n",
      "2.0\n",
      "2.449489742783178\n"
     ]
    }
   ],
   "source": [
    "# Question 3 =  print square root of even number in list [loop] \n",
    "for i in List_a:\n",
    "    if i%2==0:\n",
    "        sqrt_list=math.sqrt(i)\n",
    "        print(sqrt_list)"
   ]
  },
  {
   "cell_type": "code",
   "execution_count": 42,
   "metadata": {},
   "outputs": [
    {
     "name": "stdout",
     "output_type": "stream",
     "text": [
      "[1.4142135623730951, 2.0, 2.449489742783178]\n"
     ]
    }
   ],
   "source": [
    "#Using List comprehension\n",
    "even_squareroot=[math.sqrt(i) for i in List_a if i%2==0]\n",
    "#syntax\n",
    "#1.output expression(math.sqrt(i)) 2.Input(for i in List_a)  3.Condition(optional)(if i%2==0)\n",
    "print(even_squareroot)"
   ]
  },
  {
   "cell_type": "code",
   "execution_count": null,
   "metadata": {},
   "outputs": [],
   "source": []
  },
  {
   "cell_type": "markdown",
   "metadata": {},
   "source": [
    "# what are Dictionaries?\n",
    "\n",
    "1) A dictionary is a collection which is #unordered, #changeable and #indexed.\n",
    "2) they have keys and values.\n",
    "\n",
    "# Defining a dictionaries?\n",
    "\n",
    "1) Use curly braces{} to define a dictionary.\n",
    "2) Use colons to connect keys and values.\n",
    "3) use commas to separate individual key-value pairs."
   ]
  },
  {
   "cell_type": "code",
   "execution_count": null,
   "metadata": {},
   "outputs": [],
   "source": [
    "d.keys()\n",
    "d.values()\n",
    "d.items()\n",
    "d.pop()\n",
    "d.get()\n",
    "d.clear()"
   ]
  },
  {
   "cell_type": "code",
   "execution_count": 67,
   "metadata": {},
   "outputs": [
    {
     "name": "stdout",
     "output_type": "stream",
     "text": [
      "{'ram': 'kind', 'shyam': 'honest', 'sohan': 'responsible', 'mohan': 'generous', 'gopal': 'clever'}\n"
     ]
    }
   ],
   "source": [
    "dict = {'ram':'kind','shyam':'honest','sohan':'responsible','mohan':'generous','gopal':'clever'}\n",
    "print(dict)"
   ]
  },
  {
   "cell_type": "code",
   "execution_count": 49,
   "metadata": {},
   "outputs": [
    {
     "name": "stdout",
     "output_type": "stream",
     "text": [
      "kind\n"
     ]
    }
   ],
   "source": [
    "# accessing using get method\n",
    "print(dict.get('ram'))"
   ]
  },
  {
   "cell_type": "code",
   "execution_count": 52,
   "metadata": {},
   "outputs": [
    {
     "name": "stdout",
     "output_type": "stream",
     "text": [
      "dict_keys(['ram', 'shyam', 'sohan', 'mohan', 'gopal'])\n"
     ]
    }
   ],
   "source": [
    "# Accessing only the keys\n",
    "print(dict.keys())"
   ]
  },
  {
   "cell_type": "code",
   "execution_count": 53,
   "metadata": {},
   "outputs": [
    {
     "name": "stdout",
     "output_type": "stream",
     "text": [
      "dict_values(['kind', 'honest', 'responsible', 'generous', 'clever'])\n"
     ]
    }
   ],
   "source": [
    "# Accessing only the values\n",
    "print(dict.values())"
   ]
  },
  {
   "cell_type": "code",
   "execution_count": 56,
   "metadata": {},
   "outputs": [
    {
     "name": "stdout",
     "output_type": "stream",
     "text": [
      "dict_items([('ram', 'kind'), ('shyam', 'honest'), ('sohan', 'responsible'), ('mohan', 'generous'), ('gopal', 'clever')])\n"
     ]
    }
   ],
   "source": [
    "print(dict.items())"
   ]
  },
  {
   "cell_type": "code",
   "execution_count": 59,
   "metadata": {},
   "outputs": [
    {
     "name": "stdout",
     "output_type": "stream",
     "text": [
      "('ram', 'kind')\n",
      "('shyam', 'honest')\n",
      "('sohan', 'responsible')\n",
      "('mohan', 'generous')\n",
      "('gopal', 'clever')\n"
     ]
    }
   ],
   "source": [
    "# iterating a dictionary\n",
    "for items in dict.items():\n",
    "    print(items)"
   ]
  },
  {
   "cell_type": "code",
   "execution_count": 62,
   "metadata": {},
   "outputs": [
    {
     "name": "stdout",
     "output_type": "stream",
     "text": [
      "kind\n",
      "honest\n",
      "responsible\n",
      "generous\n",
      "clever\n"
     ]
    }
   ],
   "source": [
    "# Extracting items by iterating dictionary keys\n",
    "for items in dict.keys():\n",
    "    print(dict[items])"
   ]
  },
  {
   "cell_type": "code",
   "execution_count": 63,
   "metadata": {},
   "outputs": [
    {
     "name": "stdout",
     "output_type": "stream",
     "text": [
      "ram\n",
      "shyam\n",
      "sohan\n",
      "mohan\n",
      "gopal\n"
     ]
    }
   ],
   "source": [
    "# Extracting only keys of dictionary sample_dict\n",
    "for items in dict.keys():\n",
    "    print(items)"
   ]
  },
  {
   "cell_type": "code",
   "execution_count": 68,
   "metadata": {},
   "outputs": [
    {
     "name": "stdout",
     "output_type": "stream",
     "text": [
      "{'shyam': 'honest', 'sohan': 'responsible', 'mohan': 'generous', 'gopal': 'clever'}\n"
     ]
    }
   ],
   "source": [
    "dict.pop('ram')\n",
    "print(dict)"
   ]
  },
  {
   "cell_type": "code",
   "execution_count": null,
   "metadata": {},
   "outputs": [],
   "source": []
  },
  {
   "cell_type": "code",
   "execution_count": null,
   "metadata": {},
   "outputs": [],
   "source": []
  },
  {
   "cell_type": "markdown",
   "metadata": {},
   "source": [
    "# what are Tuples?\n",
    "\n",
    "1) A tuple is a collection which is #ordered and #unchangeable. \n",
    "or A tuple is like a list, except you can't change the values in a tuple once it's defined\n",
    "\n",
    "# Defining a tuple!\n",
    "\n",
    "1) Use round brackets() to define a tuple."
   ]
  },
  {
   "cell_type": "code",
   "execution_count": 70,
   "metadata": {},
   "outputs": [
    {
     "name": "stdout",
     "output_type": "stream",
     "text": [
      "('titu', 'max', 'bruno', 'mahi')\n"
     ]
    }
   ],
   "source": [
    "pet=('titu','max','bruno','mahi')\n",
    "print(pet)"
   ]
  },
  {
   "cell_type": "markdown",
   "metadata": {},
   "source": [
    "# Operation on strings\n",
    "s.startswith(prefix[,start[,end]]) \n",
    "s.endswith(suffix[,start[,end]]) \n",
    "s.strip([chars]) \n",
    "s.count(sub[,start[,end]]) \n",
    "s.partition(sep)→ (before,sep,after) \n",
    "s.index(sub[,start[,end]]) \n",
    "s.find(sub[,start[,end]]) \n",
    "s.is…()  tests on chars categories (ex. s.isalpha()) \n",
    "s.upper()   \n",
    "s.lower()   \n",
    "s.title()   \n",
    "s.swapcase() \n",
    "s.casefold()   \n",
    "s.capitalize()   \n",
    "s.center([width,fill]) \n",
    "s.ljust([width,fill])  \n",
    "s.rjust([width,fill])  \n",
    "s.zfill([width]) \n",
    "s.encode(encoding)   \n",
    "s.split([sep])  \n",
    "s.join(seq)"
   ]
  },
  {
   "cell_type": "code",
   "execution_count": 77,
   "metadata": {},
   "outputs": [
    {
     "name": "stdout",
     "output_type": "stream",
     "text": [
      "a\n",
      "b\tc\n"
     ]
    }
   ],
   "source": [
    "s = 'a\\nb\\tc'\n",
    "print(s)\n",
    "# Here, \\n represents a new-line character and \\t represents a tab character"
   ]
  },
  {
   "cell_type": "code",
   "execution_count": 78,
   "metadata": {},
   "outputs": [
    {
     "data": {
      "text/plain": [
       "37"
      ]
     },
     "execution_count": 78,
     "metadata": {},
     "output_type": "execute_result"
    }
   ],
   "source": [
    "#length of string\n",
    "string='let start learning python in one week'\n",
    "len(string)"
   ]
  },
  {
   "cell_type": "code",
   "execution_count": 81,
   "metadata": {},
   "outputs": [
    {
     "data": {
      "text/plain": [
       "'Ankitnayan'"
      ]
     },
     "execution_count": 81,
     "metadata": {},
     "output_type": "execute_result"
    }
   ],
   "source": [
    "#concatenation of a string\n",
    "combine='Ankit'+'nayan'\n",
    "combine"
   ]
  },
  {
   "cell_type": "code",
   "execution_count": 82,
   "metadata": {},
   "outputs": [
    {
     "data": {
      "text/plain": [
       "'ankitnayanankitnayanankitnayanankitnayanankitnayanankitnayanankitnayanankitnayan'"
      ]
     },
     "execution_count": 82,
     "metadata": {},
     "output_type": "execute_result"
    }
   ],
   "source": [
    "#repetition of string multiple times\n",
    "repetition='ankitnayan'*8\n",
    "repetition"
   ]
  },
  {
   "cell_type": "code",
   "execution_count": 87,
   "metadata": {},
   "outputs": [
    {
     "data": {
      "text/plain": [
       "'Iowa,Arizona,Dallas'"
      ]
     },
     "execution_count": 87,
     "metadata": {},
     "output_type": "execute_result"
    }
   ],
   "source": [
    "list=['Iowa','Arizona','Dallas']\n",
    "join_str=','.join(list)    #whatever inside this operator '' it will join strings with that\n",
    "join_str\n",
    "# 'join' method makes use of separators like either ','  , ';' , ' ' and so on to combine strings"
   ]
  },
  {
   "cell_type": "code",
   "execution_count": 88,
   "metadata": {},
   "outputs": [],
   "source": [
    "str='Python is easy to learn'"
   ]
  },
  {
   "cell_type": "code",
   "execution_count": 91,
   "metadata": {},
   "outputs": [
    {
     "data": {
      "text/plain": [
       "True"
      ]
     },
     "execution_count": 91,
     "metadata": {},
     "output_type": "execute_result"
    }
   ],
   "source": [
    "str.startswith('Py')"
   ]
  },
  {
   "cell_type": "code",
   "execution_count": 92,
   "metadata": {},
   "outputs": [
    {
     "data": {
      "text/plain": [
       "True"
      ]
     },
     "execution_count": 92,
     "metadata": {},
     "output_type": "execute_result"
    }
   ],
   "source": [
    "str.endswith('arn')"
   ]
  },
  {
   "cell_type": "code",
   "execution_count": null,
   "metadata": {},
   "outputs": [],
   "source": []
  }
 ],
 "metadata": {
  "kernelspec": {
   "display_name": "Python 3",
   "language": "python",
   "name": "python3"
  },
  "language_info": {
   "codemirror_mode": {
    "name": "ipython",
    "version": 3
   },
   "file_extension": ".py",
   "mimetype": "text/x-python",
   "name": "python",
   "nbconvert_exporter": "python",
   "pygments_lexer": "ipython3",
   "version": "3.7.3"
  }
 },
 "nbformat": 4,
 "nbformat_minor": 2
}
