{
  "nbformat": 4,
  "nbformat_minor": 0,
  "metadata": {
    "colab": {
      "name": "Statistics.ipynb",
      "provenance": [],
      "toc_visible": true,
      "mount_file_id": "169nmvb6BRtM1iuwSAjQAQkHHTN4vlLUb",
      "authorship_tag": "ABX9TyPC1qnmMtTXCSlvgOfy+WUt",
      "include_colab_link": true
    },
    "kernelspec": {
      "name": "python3",
      "display_name": "Python 3"
    }
  },
  "cells": [
    {
      "cell_type": "markdown",
      "metadata": {
        "id": "view-in-github",
        "colab_type": "text"
      },
      "source": [
        "<a href=\"https://colab.research.google.com/github/ankitnayan12/CompletePython-in-7days/blob/master/Statistics.ipynb\" target=\"_parent\"><img src=\"https://colab.research.google.com/assets/colab-badge.svg\" alt=\"Open In Colab\"/></a>"
      ]
    },
    {
      "cell_type": "markdown",
      "metadata": {
        "id": "IlyAdvh46gWl",
        "colab_type": "text"
      },
      "source": [
        "#Statistics"
      ]
    },
    {
      "cell_type": "markdown",
      "metadata": {
        "id": "F9KOorBO7RTR",
        "colab_type": "text"
      },
      "source": [
        "Statistics is a field that converts data into knowledge\n",
        "#***Data    ->   Statistics   ->   Knowledge***\n",
        "\n",
        "Statistics is subject that design techniques to reduce the error to minimum and come up with solution with minimum amount of error.\n",
        "\n",
        "                            Statistics\n",
        "Descriptive statistics- Branch of statistics that collects,summarize and present data.\n",
        "\n",
        "Inferential statistics- Make inferences about populations using data drawn from the population instead ofusing entire population to gather the data.  The statiscians will collect a sample of from million of residents and make inference about entire population."
      ]
    },
    {
      "cell_type": "markdown",
      "metadata": {
        "id": "BCbDqBAd7Rl7",
        "colab_type": "text"
      },
      "source": [
        "# **Variables**\n",
        "\n",
        "**Quantitative variable**-(Numerical Variable) - Height,Variable,Tempreature,No of students \n",
        "\n",
        "**Qualitative variable**- (Categorical variable) - Colour of shirt, Gender, Satisfaction,Eye colour"
      ]
    },
    {
      "cell_type": "markdown",
      "metadata": {
        "id": "urUxtCYocJkt",
        "colab_type": "text"
      },
      "source": [
        "**A) Ordinary variable** - An ordinary variable is a categorical variable for which the possible value are ordered.\n",
        "\n",
        "Ex- level of satisfaction in order \n",
        "\n",
        "1.   very satisfied\n",
        "2.   satisfied neutral\n",
        "                                      order highest to lowest\n",
        "1.   un-satisfied\n",
        "2.   very unsatisfied \n",
        "\n",
        "\n",
        "\n",
        "**B) Nominal variable** - A nominal variable is a categorical variable.It has two or more categories having any kind of natural order.\n",
        "\n",
        "                        Categories\n",
        "Ex- Do you own bike     (yes, no)\n",
        "\n",
        "Types of stocks owned   (growth, value, other)\n",
        "\n",
        "internet provider       (Airtel reliance BSNL)\n",
        "\n",
        "\n",
        "**C) Interval** - The scale of measurement that does not have to zero it is used to measure quantitative measurement. \n",
        "\n",
        "**D) Ratio** - The scale of measurement that have a true zero. \n",
        "Example- zero kelvin note \n",
        "\n",
        "Note-Negative value are not true zero example temperature can be negative\n",
        "\n"
      ]
    },
    {
      "cell_type": "markdown",
      "metadata": {
        "id": "DFhFo_5Aigei",
        "colab_type": "text"
      },
      "source": [
        "# **Pareto Analysis**\n",
        "Pareto defination\n",
        "\n",
        "![alt text](https://https://drive.google.com/file/d/17kI9SuOXZYlP5ehsFDzbpNScyUlu01fP/view?usp=sharing)\n",
        "\n",
        "Pareto analysis on pizza delihvery\n",
        "\n",
        "![alt text](https://https://drive.google.com/file/d/1Q-Fr00FmgAFG6NjSCHzo--8WGl1cwbyO/view?usp=sharing)"
      ]
    },
    {
      "cell_type": "markdown",
      "metadata": {
        "id": "PFqCT88tnR5I",
        "colab_type": "text"
      },
      "source": [
        "# **Measures of central tendency, spread & shape - 1**\n",
        "\n",
        "CategoryA=18% return\n",
        "Average is same in both case\n",
        "CategoryB= 18% return\n",
        "Quantifying the central tendency\n",
        "\n",
        "Algegraic & Geometric representation of unidimensional data\n",
        "Return={10,5,5,18,19.5,31,2}\n",
        "Geometrically all observation in the above set in the number line\n",
        "\n",
        "Arthimetic mean is the only common measure of central tendency in which all the value play an equal role.\n",
        "\n",
        "**Note:-**\n",
        "**Limitation of AM**\n",
        "\n",
        "**It is highly affected by Extreme value**"
      ]
    },
    {
      "cell_type": "markdown",
      "metadata": {
        "id": "fgGebUhl519i",
        "colab_type": "text"
      },
      "source": [
        "# **Median**\n",
        "\n",
        "It is the value which divide observation in such that 50% of the observation falls below it and 50% lies above it.\n",
        "\n",
        "**Calculation of median:-**\n",
        "\n",
        "x={2,1,5,8,4,12,10,14,7}\n",
        "\n",
        "Arrange in ascending order\n",
        "x=1,2,4,5,7,8,10,12,14\n",
        "\n",
        "**Formula for calculating median**\n",
        "\n",
        "Step1-order the variable\n",
        "\n",
        "Step2- Find the no of Observation (n) in the variable\n",
        "\n",
        "Step3-If N is odd (N+1)/2\n",
        "\n",
        "Step4-If N is even \n",
        "\n",
        "median=[N/2th observation+(N/2+1)th observation]/2\n",
        "\n",
        "**Robustness of median (Not affected by change of extreme value)**\n",
        "\n",
        "Changing any value to high or low value  won't bring much change to median\n",
        "Ex:-\n",
        "\n",
        "x={1,2,3,4,5,6,7,8,9}\n",
        "median=7\n",
        "\n",
        "x={1,2,3,4,5,6,7,8,10}\n",
        "median=7\n",
        "\n",
        "\n"
      ]
    },
    {
      "cell_type": "markdown",
      "metadata": {
        "id": "C3rXg6FG52ot",
        "colab_type": "text"
      },
      "source": [
        "# **Mode**\n",
        "\n",
        "Mode is a value in a set of daata that appears most frequently\n",
        "\n",
        "**Mode is also Robust statistics**(Not get affected by other values)"
      ]
    },
    {
      "cell_type": "markdown",
      "metadata": {
        "id": "CJkdJZ7rRDZG",
        "colab_type": "text"
      },
      "source": [
        "# **Quartile**\n",
        "\n",
        "Quartile are values that divide a set of observation into 4 equal parts.\n",
        "\n",
        "0---------------1--------------2----------------3---------------4\n",
        "\n",
        "        First Quartile  Second Quartile  Third Quartile 3        \n",
        "\n",
        "**First Quartile**:- A value that divides the observation into two parts such that 25% of the observation lies below it and 75% lies above it.\n",
        "\n",
        "**Q1=(n+1/4)th observation**\n",
        "\n",
        "\n",
        "**Second Quartile**:- A value that divides the observation into two equal parts. i.e. median\n",
        "\n",
        "**Q2=(n+1/2)th observation**\n",
        "\n",
        "\n",
        "\n",
        "**Third Quartile**:-\n",
        "\n",
        "A value that divides the observation into two parts such that 75% of the observation lies below it and 25% lies above it.\n",
        "\n",
        "**Q3=(3(n+1)/4)th observation**"
      ]
    },
    {
      "cell_type": "markdown",
      "metadata": {
        "id": "8NsSSpuyWlMX",
        "colab_type": "text"
      },
      "source": [
        "# **Deciles**\n",
        "\n",
        "Deciles are value that divides a set of observation into 10 equal parts.\n",
        "\n",
        "0-------1--------2------3------4------5------6-----7-----8------9-----10\n",
        "\n",
        " Decile 1 Decile2"
      ]
    },
    {
      "cell_type": "markdown",
      "metadata": {
        "id": "M_3Ds422bVjJ",
        "colab_type": "text"
      },
      "source": [
        "# **Percentile**\n",
        "\n",
        "Percentile are values that divide a set of observation into 100 equal parts\n",
        "\n",
        "Formula\n",
        "\n",
        "P1=1(n+1/100)\n",
        "\n",
        "P2=2(n+1/100)\n",
        "\n",
        "P3=3(n+1/100)\n",
        "\n",
        "P4=4(n+1/100)\n",
        "\n",
        "P5=5(n+1/100)\n",
        "\n",
        ".\n",
        "\n",
        ".\n",
        "\n",
        ".\n",
        "\n",
        "P99=99(n+1/100)\n"
      ]
    },
    {
      "cell_type": "markdown",
      "metadata": {
        "id": "7fPBDsmHbVek",
        "colab_type": "text"
      },
      "source": [
        "Note:-\n",
        "Before Choosing for Quarile ,Decile,Percentile. You have to check data which suited most of the data."
      ]
    },
    {
      "cell_type": "markdown",
      "metadata": {
        "id": "3K-5ZDHIsXPx",
        "colab_type": "text"
      },
      "source": [
        "# **Quantifying the spread**\n",
        "\n",
        "**Range**\n",
        "\n",
        "Range=Largest value-Smallest value\n",
        "\n",
        "Range is not a Robust Statistics( since it is not affected by extreme value)\n",
        "\n",
        "Which mutual fund will you prefer?\n",
        "\n",
        "CategoryA\n",
        "Range=55-8=47\n",
        "\n",
        "Category B\n",
        "Range=60-2.5=57.5\n",
        "\n",
        "Category A is good due to less spread of data"
      ]
    },
    {
      "cell_type": "markdown",
      "metadata": {
        "id": "KHGebOnEvuhc",
        "colab_type": "text"
      },
      "source": [
        "# **The Interquartile range**\n",
        "\n",
        "Also called Midspread\n",
        "It is difference between third and first quartile in a set of data.\n",
        "\n",
        "IQR= Upper Quartile-Lower Quartile\n",
        "\n",
        "         Q3        -    Q1\n",
        "\n",
        "**Note- It is not affected by extreme values extreme value (Outliers) Robust Statistic.**\n",
        "\n"
      ]
    },
    {
      "cell_type": "markdown",
      "metadata": {
        "id": "b-lCpOYNN0RC",
        "colab_type": "text"
      },
      "source": [
        "**Box and Whisker plot**\n",
        "\n",
        "Upper whisker=min(max value,Q3+1.5*IQR)\n",
        "\n",
        "Lower whisker=max(min value,Q1-1.5*IQR)"
      ]
    },
    {
      "cell_type": "markdown",
      "metadata": {
        "id": "gEWJTqiWvToF",
        "colab_type": "text"
      },
      "source": [
        "# **Measurement of central tendency spread and shape -2**\n",
        "\n",
        "If histogram is symmetricalgo for emphirical rule\n",
        "otherwise chebyshev's rule."
      ]
    },
    {
      "cell_type": "markdown",
      "metadata": {
        "id": "q4Af_iWBr8-b",
        "colab_type": "text"
      },
      "source": [
        "# **Shape of data**\n",
        "\n",
        "![alt text](https://https://drive.google.com/file/d/1UO9OWFxOGu7Fb0unPFkSaFKBezyXK5R4/view?usp=sharing)\n"
      ]
    },
    {
      "cell_type": "markdown",
      "metadata": {
        "id": "l9Csw3MYbVZf",
        "colab_type": "text"
      },
      "source": [
        "# **The Emphirical Rule**\n",
        "\n",
        "![alt text](https://drive.google.com/file/d/1Og-HMyKuQMnqBMDsKHx7Z5a9XffKwK4P/view?usp=sharing)\n",
        "\n",
        "\n",
        "#**Chebyshev's rule**\n",
        "It states that for any data set, regardless of shape percentage of values found within distance of k(standard deviation) from the mean must be at least.\n",
        "[1-1/k(square)]*100  ,  k>1\n"
      ]
    },
    {
      "cell_type": "markdown",
      "metadata": {
        "id": "yFqMJBH8uBCM",
        "colab_type": "text"
      },
      "source": [
        ""
      ]
    }
  ]
}